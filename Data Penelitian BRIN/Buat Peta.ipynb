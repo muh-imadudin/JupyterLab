{
 "cells": [
  {
   "cell_type": "code",
   "execution_count": 1,
   "id": "0f39e35a",
   "metadata": {},
   "outputs": [
    {
     "ename": "ValueError",
     "evalue": "Pr is not a valid ColorBrewer code",
     "output_type": "error",
     "traceback": [
      "\u001b[1;31m---------------------------------------------------------------------------\u001b[0m",
      "\u001b[1;31mValueError\u001b[0m                                Traceback (most recent call last)",
      "Cell \u001b[1;32mIn[1], line 31\u001b[0m\n\u001b[0;32m     28\u001b[0m m \u001b[38;5;241m=\u001b[39m folium\u001b[38;5;241m.\u001b[39mMap(location\u001b[38;5;241m=\u001b[39m[\u001b[38;5;241m-\u001b[39m\u001b[38;5;241m7.5\u001b[39m, \u001b[38;5;241m111\u001b[39m], zoom_start\u001b[38;5;241m=\u001b[39m\u001b[38;5;241m9\u001b[39m, tiles\u001b[38;5;241m=\u001b[39m\u001b[38;5;124m\"\u001b[39m\u001b[38;5;124mOpenStreetMap\u001b[39m\u001b[38;5;124m\"\u001b[39m)\n\u001b[0;32m     30\u001b[0m \u001b[38;5;66;03m# 7. Tambahkan layer choropleth\u001b[39;00m\n\u001b[1;32m---> 31\u001b[0m \u001b[43mfolium\u001b[49m\u001b[38;5;241;43m.\u001b[39;49m\u001b[43mChoropleth\u001b[49m\u001b[43m(\u001b[49m\n\u001b[0;32m     32\u001b[0m \u001b[43m    \u001b[49m\u001b[43mgeo_data\u001b[49m\u001b[38;5;241;43m=\u001b[39;49m\u001b[38;5;124;43m\"\u001b[39;49m\u001b[38;5;124;43mwilayah_radon.geojson\u001b[39;49m\u001b[38;5;124;43m\"\u001b[39;49m\u001b[43m,\u001b[49m\n\u001b[0;32m     33\u001b[0m \u001b[43m    \u001b[49m\u001b[43mdata\u001b[49m\u001b[38;5;241;43m=\u001b[39;49m\u001b[43mgdf\u001b[49m\u001b[43m,\u001b[49m\n\u001b[0;32m     34\u001b[0m \u001b[43m    \u001b[49m\u001b[43mcolumns\u001b[49m\u001b[38;5;241;43m=\u001b[39;49m\u001b[43m[\u001b[49m\u001b[38;5;124;43m'\u001b[39;49m\u001b[38;5;124;43mname\u001b[39;49m\u001b[38;5;124;43m'\u001b[39;49m\u001b[43m,\u001b[49m\u001b[43m \u001b[49m\u001b[38;5;124;43m'\u001b[39;49m\u001b[38;5;124;43mradon\u001b[39;49m\u001b[38;5;124;43m'\u001b[39;49m\u001b[43m]\u001b[49m\u001b[43m,\u001b[49m\n\u001b[0;32m     35\u001b[0m \u001b[43m    \u001b[49m\u001b[43mkey_on\u001b[49m\u001b[38;5;241;43m=\u001b[39;49m\u001b[38;5;124;43m\"\u001b[39;49m\u001b[38;5;124;43mfeature.properties.name\u001b[39;49m\u001b[38;5;124;43m\"\u001b[39;49m\u001b[43m,\u001b[49m\n\u001b[0;32m     36\u001b[0m \u001b[43m    \u001b[49m\u001b[43mfill_color\u001b[49m\u001b[38;5;241;43m=\u001b[39;49m\u001b[38;5;124;43m'\u001b[39;49m\u001b[38;5;124;43mPr\u001b[39;49m\u001b[38;5;124;43m'\u001b[39;49m\u001b[43m,\u001b[49m\n\u001b[0;32m     37\u001b[0m \u001b[43m    \u001b[49m\u001b[43mfill_opacity\u001b[49m\u001b[38;5;241;43m=\u001b[39;49m\u001b[38;5;241;43m0.4\u001b[39;49m\u001b[43m,\u001b[49m\n\u001b[0;32m     38\u001b[0m \u001b[43m    \u001b[49m\u001b[43mline_opacity\u001b[49m\u001b[38;5;241;43m=\u001b[39;49m\u001b[38;5;241;43m0.2\u001b[39;49m\u001b[43m,\u001b[49m\n\u001b[0;32m     39\u001b[0m \u001b[43m    \u001b[49m\u001b[43mline_color\u001b[49m\u001b[38;5;241;43m=\u001b[39;49m\u001b[38;5;124;43m'\u001b[39;49m\u001b[38;5;124;43mblack\u001b[39;49m\u001b[38;5;124;43m'\u001b[39;49m\u001b[43m,\u001b[49m\n\u001b[0;32m     40\u001b[0m \u001b[43m    \u001b[49m\u001b[43mlegend_name\u001b[49m\u001b[38;5;241;43m=\u001b[39;49m\u001b[38;5;124;43m'\u001b[39;49m\u001b[38;5;124;43mKonsentrasi Radon (Bq/m³)\u001b[39;49m\u001b[38;5;124;43m'\u001b[39;49m\u001b[43m,\u001b[49m\n\u001b[0;32m     41\u001b[0m \u001b[43m    \u001b[49m\u001b[43mhighlight\u001b[49m\u001b[38;5;241;43m=\u001b[39;49m\u001b[38;5;28;43;01mTrue\u001b[39;49;00m\n\u001b[0;32m     42\u001b[0m \u001b[43m)\u001b[49m\u001b[38;5;241m.\u001b[39madd_to(m)\n\u001b[0;32m     44\u001b[0m \u001b[38;5;66;03m# 8. Tambahkan tooltip (nama & nilai)\u001b[39;00m\n\u001b[0;32m     45\u001b[0m folium\u001b[38;5;241m.\u001b[39mGeoJson(\n\u001b[0;32m     46\u001b[0m     gdf,\n\u001b[0;32m     47\u001b[0m     name\u001b[38;5;241m=\u001b[39m\u001b[38;5;124m\"\u001b[39m\u001b[38;5;124mWilayah\u001b[39m\u001b[38;5;124m\"\u001b[39m,\n\u001b[0;32m     48\u001b[0m     tooltip\u001b[38;5;241m=\u001b[39mfolium\u001b[38;5;241m.\u001b[39mGeoJsonTooltip(fields\u001b[38;5;241m=\u001b[39m[\u001b[38;5;124m'\u001b[39m\u001b[38;5;124mname\u001b[39m\u001b[38;5;124m'\u001b[39m, \u001b[38;5;124m'\u001b[39m\u001b[38;5;124mradon\u001b[39m\u001b[38;5;124m'\u001b[39m], aliases\u001b[38;5;241m=\u001b[39m[\u001b[38;5;124m\"\u001b[39m\u001b[38;5;124mWilayah\u001b[39m\u001b[38;5;124m\"\u001b[39m, \u001b[38;5;124m\"\u001b[39m\u001b[38;5;124mRadon\u001b[39m\u001b[38;5;124m\"\u001b[39m])\n\u001b[0;32m     49\u001b[0m )\u001b[38;5;241m.\u001b[39madd_to(m)\n",
      "File \u001b[1;32mc:\\Users\\HP\\AppData\\Local\\Programs\\Python\\Python311\\Lib\\site-packages\\folium\\features.py:1524\u001b[0m, in \u001b[0;36mChoropleth.__init__\u001b[1;34m(self, geo_data, data, columns, key_on, bins, fill_color, nan_fill_color, fill_opacity, nan_fill_opacity, line_color, line_weight, line_opacity, name, legend_name, overlay, control, show, topojson, smooth_factor, highlight, use_jenks, **kwargs)\u001b[0m\n\u001b[0;32m   1520\u001b[0m \u001b[38;5;28mself\u001b[39m\u001b[38;5;241m.\u001b[39m_name \u001b[38;5;241m=\u001b[39m \u001b[38;5;124m\"\u001b[39m\u001b[38;5;124mChoropleth\u001b[39m\u001b[38;5;124m\"\u001b[39m\n\u001b[0;32m   1522\u001b[0m fill_color \u001b[38;5;241m=\u001b[39m fill_color \u001b[38;5;129;01mor\u001b[39;00m (\u001b[38;5;124m\"\u001b[39m\u001b[38;5;124mblue\u001b[39m\u001b[38;5;124m\"\u001b[39m \u001b[38;5;28;01mif\u001b[39;00m data \u001b[38;5;129;01mis\u001b[39;00m \u001b[38;5;28;01mNone\u001b[39;00m \u001b[38;5;28;01melse\u001b[39;00m \u001b[38;5;124m\"\u001b[39m\u001b[38;5;124mBlues\u001b[39m\u001b[38;5;124m\"\u001b[39m)\n\u001b[1;32m-> 1524\u001b[0m \u001b[38;5;28;01mif\u001b[39;00m data \u001b[38;5;129;01mis\u001b[39;00m \u001b[38;5;129;01mnot\u001b[39;00m \u001b[38;5;28;01mNone\u001b[39;00m \u001b[38;5;129;01mand\u001b[39;00m \u001b[38;5;129;01mnot\u001b[39;00m \u001b[43mcolor_brewer\u001b[49m\u001b[43m(\u001b[49m\u001b[43mfill_color\u001b[49m\u001b[43m)\u001b[49m:\n\u001b[0;32m   1525\u001b[0m     \u001b[38;5;28;01mraise\u001b[39;00m \u001b[38;5;167;01mValueError\u001b[39;00m(\n\u001b[0;32m   1526\u001b[0m         \u001b[38;5;124m\"\u001b[39m\u001b[38;5;124mPlease pass a valid color brewer code to \u001b[39m\u001b[38;5;124m\"\u001b[39m\n\u001b[0;32m   1527\u001b[0m         \u001b[38;5;124m\"\u001b[39m\u001b[38;5;124mfill_local. See docstring for valid codes.\u001b[39m\u001b[38;5;124m\"\u001b[39m\n\u001b[0;32m   1528\u001b[0m     )\n\u001b[0;32m   1530\u001b[0m \u001b[38;5;28;01mif\u001b[39;00m nan_fill_opacity \u001b[38;5;129;01mis\u001b[39;00m \u001b[38;5;28;01mNone\u001b[39;00m:\n",
      "File \u001b[1;32mc:\\Users\\HP\\AppData\\Local\\Programs\\Python\\Python311\\Lib\\site-packages\\branca\\utilities.py:151\u001b[0m, in \u001b[0;36mcolor_brewer\u001b[1;34m(color_code, n)\u001b[0m\n\u001b[0;32m    148\u001b[0m     core_schemes \u001b[38;5;241m=\u001b[39m json\u001b[38;5;241m.\u001b[39mloads(f\u001b[38;5;241m.\u001b[39mread())[\u001b[38;5;124m\"\u001b[39m\u001b[38;5;124mcodes\u001b[39m\u001b[38;5;124m\"\u001b[39m]\n\u001b[0;32m    150\u001b[0m \u001b[38;5;28;01mif\u001b[39;00m base_code \u001b[38;5;129;01mnot\u001b[39;00m \u001b[38;5;129;01min\u001b[39;00m core_schemes:\n\u001b[1;32m--> 151\u001b[0m     \u001b[38;5;28;01mraise\u001b[39;00m \u001b[38;5;167;01mValueError\u001b[39;00m(base_code \u001b[38;5;241m+\u001b[39m \u001b[38;5;124m\"\u001b[39m\u001b[38;5;124m is not a valid ColorBrewer code\u001b[39m\u001b[38;5;124m\"\u001b[39m)\n\u001b[0;32m    153\u001b[0m explicit_scheme \u001b[38;5;241m=\u001b[39m \u001b[38;5;28;01mTrue\u001b[39;00m\n\u001b[0;32m    154\u001b[0m \u001b[38;5;28;01mif\u001b[39;00m schemes\u001b[38;5;241m.\u001b[39mget(core_color_code) \u001b[38;5;129;01mis\u001b[39;00m \u001b[38;5;28;01mNone\u001b[39;00m:\n",
      "\u001b[1;31mValueError\u001b[0m: Pr is not a valid ColorBrewer code"
     ]
    }
   ],
   "source": [
    "import folium\n",
    "import geopandas as gpd\n",
    "import pandas as pd\n",
    "\n",
    "# 1. Baca file GeoJSON\n",
    "gdf = gpd.read_file(\"all_kabkota_ind.geojson\")\n",
    "\n",
    "# 2. Pilih kabupaten/kota yang kamu inginkan\n",
    "wilayah_target = [\n",
    "    \"KOTA SURAKARTA\", \"SUKOHARJO\", \"KLATEN\", \"BOYOLALI\",\n",
    "    \"KARANGANYAR\", \"MAGETAN\", \"MADIUN\",\"KOTA MADIUN\"\n",
    "]\n",
    "gdf = gdf[gdf['name'].isin(wilayah_target)]\n",
    "\n",
    "# 3. Data radon (ganti dengan data aslimu)\n",
    "data_radon = pd.DataFrame({\n",
    "    'name': [\"KOTA SURAKARTA\", \"SUKOHARJO\", \"KLATEN\", \"BOYOLALI\", \"KARANGANYAR\", \"MAGETAN\", \"KOTA MADIUN\",\"MADIUN\"],\n",
    "    'radon': [65, 42, 58, 33, 48, 27, 60, 67]\n",
    "})\n",
    "\n",
    "# 4. Gabungkan GeoDataFrame dengan data radon\n",
    "gdf = gdf.merge(data_radon, on='name')\n",
    "\n",
    "# 5. Simpan ke GeoJSON sementara untuk digunakan di Folium\n",
    "gdf.to_file(\"wilayah_radon.geojson\", driver=\"GeoJSON\")\n",
    "\n",
    "# 6. Buat peta dasar\n",
    "m = folium.Map(location=[-7.5, 111], zoom_start=9, tiles=\"OpenStreetMap\")\n",
    "\n",
    "# 7. Tambahkan layer choropleth\n",
    "folium.Choropleth(\n",
    "    geo_data=\"wilayah_radon.geojson\",\n",
    "    data=gdf,\n",
    "    columns=['name', 'radon'],\n",
    "    key_on=\"feature.properties.name\",\n",
    "    fill_color='Pr',\n",
    "    fill_opacity=0.4,\n",
    "    line_opacity=0.2,\n",
    "    line_color='black',\n",
    "    legend_name='Konsentrasi Radon (Bq/m³)',\n",
    "    highlight=True\n",
    ").add_to(m)\n",
    "\n",
    "# 8. Tambahkan tooltip (nama & nilai)\n",
    "folium.GeoJson(\n",
    "    gdf,\n",
    "    name=\"Wilayah\",\n",
    "    tooltip=folium.GeoJsonTooltip(fields=['name', 'radon'], aliases=[\"Wilayah\", \"Radon\"])\n",
    ").add_to(m)\n",
    "\n",
    "# 9. Simpan ke file HTML\n",
    "m.save(\"peta_radon_folium.html\")\n"
   ]
  },
  {
   "cell_type": "code",
   "execution_count": null,
   "id": "f42d43a9",
   "metadata": {},
   "outputs": [],
   "source": []
  }
 ],
 "metadata": {
  "kernelspec": {
   "display_name": "Python 3",
   "language": "python",
   "name": "python3"
  },
  "language_info": {
   "codemirror_mode": {
    "name": "ipython",
    "version": 3
   },
   "file_extension": ".py",
   "mimetype": "text/x-python",
   "name": "python",
   "nbconvert_exporter": "python",
   "pygments_lexer": "ipython3",
   "version": "3.11.2"
  }
 },
 "nbformat": 4,
 "nbformat_minor": 5
}
